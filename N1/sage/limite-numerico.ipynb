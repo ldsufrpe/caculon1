{
 "cells": [
  {
   "cell_type": "code",
   "execution_count": 14,
   "metadata": {},
   "outputs": [
    {
     "name": "stdout",
     "output_type": "stream",
     "text": [
      "x          f(x)      \n",
      "\n"
     ]
    }
   ],
   "source": [
    "from sympy import plot, sin, pi\n",
    "from sympy.abc import x\n",
    "\n",
    "f = x^2\n",
    "\n",
    "step = 0.1\n",
    "x_valores = []\n",
    "x0 = 0\n",
    "tabular = []\n",
    "while abs(x0-step)<0.0001:    \n",
    "    tabular.append([x0, f.subs(x, x0)])\n",
    "    x0-=step\n",
    "print (\"{:<10} {:<10}\".format('x','f(x)'))\n",
    "print()\n",
    "for values in tabular:\n",
    "    x0, fx0 = values\n",
    "    print (\"{:<10} {:<10}\".format(round(x0,4), round(fx0, 4)))"
   ]
  },
  {
   "cell_type": "code",
   "execution_count": 2,
   "metadata": {},
   "outputs": [
    {
     "data": {
      "text/html": [
       "<h1>Double Precision Root Finding Using Newton's Method</h1>"
      ],
      "text/plain": [
       "<h1>Double Precision Root Finding Using Newton's Method</h1>"
      ]
     },
     "metadata": {},
     "output_type": "display_data"
    },
    {
     "data": {
      "application/vnd.jupyter.widget-view+json": {
       "model_id": "87e10b34c0df4f1bafd8d0cf9c7b5f9f",
       "version_major": 2,
       "version_minor": 0
      },
      "text/plain": [
       "Interactive function <function _ at 0x7f299b678dc0> with 4 widgets\n",
       "  f: EvalText(value='x^2 - 2', description=…"
      ]
     },
     "metadata": {},
     "output_type": "display_data"
    }
   ],
   "source": [
    "def newton_method(f, c, eps, maxiter=100):\n",
    "    x = f.variables()[0]\n",
    "    fprime = f.derivative(x)\n",
    "    try:\n",
    "        g = f._fast_float_(x)\n",
    "        gprime = fprime._fast_float_(x)\n",
    "    except AttributeError:\n",
    "        g = f; gprime = fprime\n",
    "    iterates = [c]\n",
    "    for i in range(maxiter):\n",
    "       fc = g(c)\n",
    "       if abs(fc) < eps: return c, iterates\n",
    "       c = c - fc/gprime(c)\n",
    "       iterates.append(c)\n",
    "    return c, iterates\n",
    "    \n",
    "var('x')    \n",
    "pretty_print(html(\"<h1>Tabela de Limite Numérico</h1>\"))\n",
    "@interact\n",
    "def _(f = x^2 - 2, step = float(0.5), a=1):\n",
    "     "
   ]
  },
  {
   "cell_type": "code",
   "execution_count": 15,
   "metadata": {},
   "outputs": [],
   "source": [
    "import numpy as np"
   ]
  },
  {
   "cell_type": "code",
   "execution_count": 20,
   "metadata": {},
   "outputs": [
    {
     "data": {
      "text/plain": [
       "array([1.        , 1.11111111, 1.22222222, 1.33333333, 1.44444444,\n",
       "       1.55555556, 1.66666667, 1.77777778, 1.88888889, 2.        ])"
      ]
     },
     "execution_count": 20,
     "metadata": {},
     "output_type": "execute_result"
    }
   ],
   "source": [
    "a = 1\n",
    "n = 10\n",
    "np.linspace(a, a+1, 10)"
   ]
  },
  {
   "cell_type": "code",
   "execution_count": 19,
   "metadata": {},
   "outputs": [
    {
     "data": {
      "text/plain": [
       "5.00000000000000"
      ]
     },
     "execution_count": 19,
     "metadata": {},
     "output_type": "execute_result"
    }
   ],
   "source": [
    "1/0.2"
   ]
  },
  {
   "cell_type": "code",
   "execution_count": null,
   "metadata": {},
   "outputs": [],
   "source": []
  }
 ],
 "metadata": {
  "kernelspec": {
   "display_name": "SageMath 9.2",
   "language": "sage",
   "name": "sagemath"
  },
  "language_info": {
   "codemirror_mode": {
    "name": "ipython",
    "version": 3
   },
   "file_extension": ".py",
   "mimetype": "text/x-python",
   "name": "python",
   "nbconvert_exporter": "python",
   "pygments_lexer": "ipython3",
   "version": "3.9.1"
  }
 },
 "nbformat": 4,
 "nbformat_minor": 4
}
